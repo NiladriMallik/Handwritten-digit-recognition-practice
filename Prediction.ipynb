{
 "cells": [
  {
   "cell_type": "code",
   "execution_count": 13,
   "id": "779f1c24-a0e4-47ba-ae59-177e48ff64cb",
   "metadata": {},
   "outputs": [],
   "source": [
    "from numpy import argmax\n",
    "from keras.preprocessing.image import load_img, img_to_array\n",
    "from keras.models import load_model\n",
    "import matplotlib.pyplot as plt"
   ]
  },
  {
   "cell_type": "code",
   "execution_count": 6,
   "id": "9aec5f68-0903-4990-bd0a-0a863ae1700e",
   "metadata": {},
   "outputs": [
    {
     "name": "stderr",
     "output_type": "stream",
     "text": [
      "WARNING:absl:Compiled the loaded model, but the compiled metrics have yet to be built. `model.compile_metrics` will be empty until you train or evaluate the model.\n"
     ]
    },
    {
     "data": {
      "text/plain": [
       "<Sequential name=sequential_9, built=True>"
      ]
     },
     "execution_count": 6,
     "metadata": {},
     "output_type": "execute_result"
    }
   ],
   "source": [
    "model = load_model('final_model.h5')\n",
    "model"
   ]
  },
  {
   "cell_type": "code",
   "execution_count": 11,
   "id": "777b2cde-a3d8-4822-a774-f4eac734ad6b",
   "metadata": {},
   "outputs": [],
   "source": [
    "def load_image(filename):\n",
    "    img = load_img(filename, color_mode='grayscale', target_size = (28, 28))\n",
    "    img = img_to_array(img)\n",
    "    img = img.reshape(1, 28, 28, 1)\n",
    "    img = img.astype('float32')\n",
    "    img /= 255.0\n",
    "    return img"
   ]
  },
  {
   "cell_type": "code",
   "execution_count": 28,
   "id": "3c79f4ce-e98a-4fbc-a723-3bda3c238030",
   "metadata": {},
   "outputs": [
    {
     "name": "stdin",
     "output_type": "stream",
     "text": [
      "Enter name of file:  9\n"
     ]
    },
    {
     "name": "stdout",
     "output_type": "stream",
     "text": [
      "\u001b[1m1/1\u001b[0m \u001b[32m━━━━━━━━━━━━━━━━━━━━\u001b[0m\u001b[37m\u001b[0m \u001b[1m0s\u001b[0m 31ms/step\n",
      "The digit is predicted to be 5 and the actual value is 9\n"
     ]
    },
    {
     "data": {
      "image/png": "[encoded data removed]",
      "text/plain": [
       "<Figure size 640x480 with 1 Axes>"
      ]
     },
     "metadata": {},
     "output_type": "display_data"
    }
   ],
   "source": [
    "img_file = input(\"Enter name of file: \")\n",
    "img = load_image(img_file + '.jpg')\n",
    "predict_value = model.predict(img)\n",
    "digit = argmax(predict_value)\n",
    "plt.imshow(img[0], cmap = plt.get_cmap('gray'))\n",
    "print(f'The digit is predicted to be {digit} and the actual value is {img_file[0]}')"
   ]
  },
  {
   "cell_type": "code",
   "execution_count": null,
   "id": "c644a978-dc51-4721-a8cb-cdd685d95530",
   "metadata": {},
   "outputs": [],
   "source": []
  }
 ],
 "metadata": {
  "kernelspec": {
   "display_name": "Python 3 (ipykernel)",
   "language": "python",
   "name": "python3"
  },
  "language_info": {
   "codemirror_mode": {
    "name": "ipython",
    "version": 3
   },
   "file_extension": ".py",
   "mimetype": "text/x-python",
   "name": "python",
   "nbconvert_exporter": "python",
   "pygments_lexer": "ipython3",
   "version": "3.10.0"
  }
 },
 "nbformat": 4,
 "nbformat_minor": 5
}
