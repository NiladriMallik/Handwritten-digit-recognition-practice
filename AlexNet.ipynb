{
  "cells": [
    {
      "cell_type": "code",
      "execution_count": 1,
      "id": "4e8c57f0-5570-42fd-8d41-182907f6599e",
      "metadata": {
        "id": "4e8c57f0-5570-42fd-8d41-182907f6599e"
      },
      "outputs": [],
      "source": [
        "from numpy import mean, std\n",
        "import matplotlib.pyplot as plt\n",
        "from sklearn.model_selection import KFold\n",
        "\n",
        "import tensorflow as tf\n",
        "from tensorflow.keras.datasets import mnist\n",
        "from tensorflow.keras.utils import to_categorical\n",
        "from tensorflow.keras.models import Sequential, load_model\n",
        "from tensorflow.keras.layers import Conv2D, MaxPool2D, Dense, Flatten, BatchNormalization, Dropout\n",
        "from tensorflow.keras.optimizers import SGD\n",
        "\n",
        "from PIL import Image"
      ]
    },
    {
      "cell_type": "code",
      "execution_count": 2,
      "id": "451377ea-3325-4588-8f41-fb56dafb56d8",
      "metadata": {
        "id": "451377ea-3325-4588-8f41-fb56dafb56d8"
      },
      "outputs": [],
      "source": [
        "(X_train, y_train), (X_test, y_test) = mnist.load_data()"
      ]
    },
    {
      "cell_type": "code",
      "execution_count": 3,
      "id": "a14e412c-0d53-48e7-b51e-242a8ed89cc1",
      "metadata": {
        "colab": {
          "base_uri": "https://localhost:8080/"
        },
        "id": "a14e412c-0d53-48e7-b51e-242a8ed89cc1",
        "outputId": "1306906c-16cb-44ee-f2f7-829b4df1fe03"
      },
      "outputs": [
        {
          "output_type": "stream",
          "name": "stdout",
          "text": [
            "X train type and shape: <class 'numpy.ndarray'>, (60000, 28, 28)\n",
            "y train type and shape: <class 'numpy.ndarray'>, (60000,)\n",
            "X test type and shape: <class 'numpy.ndarray'>, (10000, 28, 28)\n",
            "y test type and shape: <class 'numpy.ndarray'>, (10000,)\n"
          ]
        }
      ],
      "source": [
        "print(f'X train type and shape: {type(X_train)}, {X_train.shape}')\n",
        "print(f'y train type and shape: {type(y_train)}, {y_train.shape}')\n",
        "print(f'X test type and shape: {type(X_test)}, {X_test.shape}')\n",
        "print(f'y test type and shape: {type(y_test)}, {y_test.shape}')"
      ]
    },
    {
      "cell_type": "code",
      "execution_count": 4,
      "id": "7a3beb44-79ba-4b88-98d4-340eff7e2ce7",
      "metadata": {
        "scrolled": true,
        "colab": {
          "base_uri": "https://localhost:8080/",
          "height": 795
        },
        "id": "7a3beb44-79ba-4b88-98d4-340eff7e2ce7",
        "outputId": "c727b282-086c-4a29-a9b0-efa7fd40d649"
      },
      "outputs": [
        {
          "output_type": "display_data",
          "data": {
            "text/plain": [
              "<Figure size 1000x1000 with 20 Axes>"
            ],
            "image/png": "[encoded data removed]"
          },
          "metadata": {}
        }
      ],
      "source": [
        "plt.figure(figsize = (10, 10))\n",
        "for i in range(20):\n",
        "    plt.subplot(4, 5, i + 1)\n",
        "    plt.title(y_train[i])\n",
        "    plt.imshow(X_train[i], cmap = plt.get_cmap('gray'))\n",
        "    plt.axis('off')\n",
        "plt.show()"
      ]
    },
    {
      "cell_type": "code",
      "execution_count": 5,
      "id": "d200487d-ab48-448c-91dd-779f22334d06",
      "metadata": {
        "colab": {
          "base_uri": "https://localhost:8080/"
        },
        "id": "d200487d-ab48-448c-91dd-779f22334d06",
        "outputId": "06b6a38d-091e-4da6-828d-6c0d617e07ea"
      },
      "outputs": [
        {
          "output_type": "execute_result",
          "data": {
            "text/plain": [
              "(60000, 28, 28)"
            ]
          },
          "metadata": {},
          "execution_count": 5
        }
      ],
      "source": [
        "X_train.shape"
      ]
    },
    {
      "cell_type": "code",
      "execution_count": 6,
      "id": "5a7c1059-dd02-4762-b289-12057d8ca4f6",
      "metadata": {
        "colab": {
          "base_uri": "https://localhost:8080/"
        },
        "id": "5a7c1059-dd02-4762-b289-12057d8ca4f6",
        "outputId": "5f0d1497-a8ad-43d3-ab9b-f31a9475c62d"
      },
      "outputs": [
        {
          "output_type": "execute_result",
          "data": {
            "text/plain": [
              "numpy.uint8"
            ]
          },
          "metadata": {},
          "execution_count": 6
        }
      ],
      "source": [
        "type(y_train[4])"
      ]
    },
    {
      "cell_type": "code",
      "execution_count": 7,
      "id": "1bf14330-330d-4167-a3d7-382a58a78ef2",
      "metadata": {
        "id": "1bf14330-330d-4167-a3d7-382a58a78ef2"
      },
      "outputs": [],
      "source": [
        "def resize_images(images, size):\n",
        "    resized_images = []\n",
        "    for img in images:\n",
        "        img_resized = tf.image.resize(img, size)\n",
        "        resized_images.append(img_resized)\n",
        "    return np.array(resized_images)"
      ]
    },
    {
      "cell_type": "code",
      "execution_count": 8,
      "id": "22bc60a7-0cfe-44a8-ad73-99a1fed10896",
      "metadata": {
        "id": "22bc60a7-0cfe-44a8-ad73-99a1fed10896"
      },
      "outputs": [],
      "source": [
        "def load_dataset():\n",
        "    (X_train, y_train), (X_test, y_test) = mnist.load_data()\n",
        "    #Cannot reshape the images to 227 * 227\n",
        "    # train_X = X_train.reshape((X_train.shape[0], 227, 227, 1))\n",
        "    # test_X = X_test.reshape((X_test.shape[0], 227, 227, 1))\n",
        "    #Let's try reshaping the images\n",
        "    train_X = tf.expand_dims(X_train, axis = -1)\n",
        "    test_X = tf.expand_dims(X_test, axis = -1)\n",
        "    #and then reshape the images\n",
        "    train_X = resize_images(train_X,[227, 227])\n",
        "    test_X = resize_images(test_X,[227, 227])\n",
        "\n",
        "    train_y = to_categorical(y_train)\n",
        "    test_y = to_categorical(y_test)\n",
        "    return train_X, train_y, test_X, test_y"
      ]
    },
    {
      "cell_type": "code",
      "execution_count": 9,
      "id": "effb5830-e05a-407c-8f45-4f5b76169240",
      "metadata": {
        "id": "effb5830-e05a-407c-8f45-4f5b76169240"
      },
      "outputs": [],
      "source": [
        "def prep_pixels(train, test):\n",
        "    # train_norm = train.astype('float32')\n",
        "    # test_norm = test.astype('float32')\n",
        "\n",
        "    # train_norm = tf.cast(train, tf.float32) / 255.0\n",
        "    # test_norm = tf.cast(test, tf.float32) / 255.0\n",
        "\n",
        "    train_norm = train / 255.0\n",
        "    test_norm = test / 255.0\n",
        "\n",
        "    return train_norm, test_norm"
      ]
    },
    {
      "cell_type": "code",
      "execution_count": 10,
      "id": "b13fbf73-def2-4843-8229-9a8513279edd",
      "metadata": {
        "id": "b13fbf73-def2-4843-8229-9a8513279edd"
      },
      "outputs": [],
      "source": [
        "def model_alex_net():\n",
        "    model = Sequential()\n",
        "    model.add(Conv2D(filters = 96, kernel_size = (11, 11), strides = (4, 4), activation = 'relu', input_shape = (227, 227, 1)))\n",
        "    model.add(BatchNormalization())\n",
        "    model.add(MaxPool2D(pool_size = (3, 3), strides = (2, 2)))\n",
        "\n",
        "    model.add(Conv2D(filters = 256, kernel_size = (5, 5), strides = (1, 1), padding = 'same'))\n",
        "    model.add(BatchNormalization())\n",
        "    model.add(MaxPool2D(pool_size = (3, 3), strides = (2, 2)))\n",
        "\n",
        "    model.add(Conv2D(filters = 384, kernel_size = (13, 13), strides = (1, 1), padding = 'same'))\n",
        "    model.add(BatchNormalization())\n",
        "\n",
        "    model.add(Conv2D(filters = 384, kernel_size = (13, 13), strides = (1, 1), padding = 'same'))\n",
        "    model.add(BatchNormalization())\n",
        "\n",
        "    model.add(Conv2D(filters = 256, kernel_size = (13, 13), strides = (1, 1), padding = 'same'))\n",
        "    model.add(BatchNormalization())\n",
        "\n",
        "    model.add(MaxPool2D(pool_size = (3, 3), strides = (2, 2)))\n",
        "    model.add(Flatten())\n",
        "    model.add(Dense(4096))\n",
        "    model.add(Dropout(0.5))\n",
        "    # model.add(Dense(4096))\n",
        "    model.add(Dense(10, activation = 'softmax'))\n",
        "    opt = SGD(learning_rate = 0.001)\n",
        "    model.compile(optimizer = opt, loss = 'sparse_categorical_crossentropy', metrics = ['accuracy'])\n",
        "    return model"
      ]
    },
    {
      "cell_type": "code",
      "execution_count": 11,
      "id": "a92693f2-c970-4b75-b891-59f6711d71b7",
      "metadata": {
        "id": "a92693f2-c970-4b75-b891-59f6711d71b7"
      },
      "outputs": [],
      "source": [
        "def evaluate_model(data_X, data_Y, n_folds = 5):\n",
        "    scores, histories = list(), list()\n",
        "    kfold = KFold(n_folds, shuffle = True, random_state = 1)\n",
        "    for train_ix, test_ix in kfold.split(data_X):\n",
        "        alex_net = model_alex_net()\n",
        "        trainX, trainY, testX, testY = data_X[train_ix], data_Y[train_ix], data_X[test_ix], data_Y[test_ix]\n",
        "\n",
        "        history = alex_net.fit(trainX, trainY, epochs = 10, batch_size = 32, validation_data = (testX, testY), verbose = 0)\n",
        "\n",
        "        _, acc = alex_net.evaluate(testX, testY)\n",
        "        print(f'Accuracy: {acc * 100}')\n",
        "        scores.append(acc)\n",
        "        histories.append(history)\n",
        "    alex_net.save('model_alex_net.h5')\n",
        "    return scores, histories"
      ]
    },
    {
      "cell_type": "code",
      "execution_count": 12,
      "id": "956a0a20-6e8e-49dd-aa97-b6b8005b26d7",
      "metadata": {
        "id": "956a0a20-6e8e-49dd-aa97-b6b8005b26d7"
      },
      "outputs": [],
      "source": [
        "def summarize_diagnostics(histories):\n",
        "    for i in range(len(histories)):\n",
        "        plt.subplot(2, 1, 1)\n",
        "        plt.title(\"Sparse Categorical Cross Entropy Loss\")\n",
        "        plt.plot(histories[i].history['loss'], color = 'blue', label = 'train')\n",
        "        plt.plot(histories[i].history['val_loss'], color = 'orange', label = 'test')\n",
        "\n",
        "        plt.subplot(2, 1, 2)\n",
        "        plt.title('Classification Accuracy')\n",
        "        plt.plot(histories[i].history['accuracy'], color = 'blue', label = 'train')\n",
        "        plt.plot(histories[i].history['val_accuracy'], color = 'orange', label = 'test')\n",
        "    plt.show()"
      ]
    },
    {
      "cell_type": "code",
      "execution_count": 13,
      "id": "ff9adf8a-30d6-49aa-930d-3de905c66eec",
      "metadata": {
        "id": "ff9adf8a-30d6-49aa-930d-3de905c66eec"
      },
      "outputs": [],
      "source": [
        "def summarize_performance(scores):\n",
        "    print(f'Accuracy: mean = {mean(scores) * 100}, std = {std(scores) * 100}, n = {len(scores)}')\n",
        "    plt.boxplot(scores)\n",
        "    plt.show()"
      ]
    },
    {
      "cell_type": "code",
      "execution_count": 14,
      "id": "bf5b167b-6e6e-4d59-ab92-9f44e91a46f3",
      "metadata": {
        "id": "bf5b167b-6e6e-4d59-ab92-9f44e91a46f3"
      },
      "outputs": [],
      "source": [
        "def run_test_harness():\n",
        "    trainX, tainY, testX, testY = load_dataset()\n",
        "    trainX, testX = prep_pixels(trainX, testX)\n",
        "    scores, histories = evaluate_model(trainX, tainY)\n",
        "    summarize_diagnostics(histories)\n",
        "    summarize_performance(scores)"
      ]
    },
    {
      "cell_type": "code",
      "execution_count": null,
      "id": "e68ba30e-a286-4fd5-95ca-b0341a3d6bda",
      "metadata": {
        "id": "e68ba30e-a286-4fd5-95ca-b0341a3d6bda"
      },
      "outputs": [],
      "source": [
        "run_test_harness()"
      ]
    }
  ],
  "metadata": {
    "kernelspec": {
      "display_name": "Python 3 (ipykernel)",
      "language": "python",
      "name": "python3"
    },
    "language_info": {
      "codemirror_mode": {
        "name": "ipython",
        "version": 3
      },
      "file_extension": ".py",
      "mimetype": "text/x-python",
      "name": "python",
      "nbconvert_exporter": "python",
      "pygments_lexer": "ipython3",
      "version": "3.10.0"
    },
    "colab": {
      "provenance": []
    }
  },
  "nbformat": 4,
  "nbformat_minor": 5
}